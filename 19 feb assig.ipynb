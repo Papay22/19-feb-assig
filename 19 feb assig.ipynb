{
 "cells": [
  {
   "cell_type": "code",
   "execution_count": null,
   "id": "7552aac3-8008-4432-bcdc-bb8ab3b34543",
   "metadata": {},
   "outputs": [],
   "source": [
    "Flask is a micro web framework written in Python and based on the Werkzeug WSGI toolkit and Jinja2 template engine. It is designed to make getting started quick and easy, with the ability to scale up to complex applications.\n",
    "\n",
    "\n",
    "Advantages of Flask Framework:\n",
    "\n",
    "\n",
    "Easy to set up: Flask is very easy to set up. It has a built-in development server and debugger that allows developers to quickly get started with their applications.\n",
    "Flexible: Flask is highly flexible and allows developers to use any type of technology for their applications, such as HTML, CSS, JavaScript, and more.\n",
    "Lightweight: Flask is a lightweight framework that does not require a lot of resources to run. This makes it ideal for applications that need to be lightweight and fast.\n",
    "Open source: Flask is an open source framework that is free to use and modify. This allows developers to customize the framework to fit their needs.\n"
   ]
  },
  {
   "cell_type": "code",
   "execution_count": null,
   "id": "2215dd8f-6f56-4c74-9cd7-fb0fbb42e7eb",
   "metadata": {},
   "outputs": [],
   "source": [
    "Code:\n",
    "\n",
    "\n",
    "from flask import Flask\n",
    "\n",
    "app = Flask(name)\n",
    "\n",
    "\n",
    "@app.route('/')\n",
    "\n",
    "def hello_world():\n",
    "\n",
    "return 'Hello World!!'\n",
    "\n",
    "\n",
    "if name == 'main':\n",
    "\n",
    "app.run()\n",
    "\n",
    "\n",
    "Output:\n",
    "\n",
    "alt text"
   ]
  },
  {
   "cell_type": "code",
   "execution_count": null,
   "id": "13a3da68-d589-4433-86e4-d9e303786ab3",
   "metadata": {},
   "outputs": [],
   "source": [
    "App routing in Flask is the process of mapping URLs to functions in a Flask application. App routes are used to define the behavior of the application when a user visits a particular URL. By using app routes, developers can create a dynamic web application that responds to user input and can be customized easily. App routes allow developers to create custom URLs for their applications, making them easier to remember and navigate."
   ]
  },
  {
   "cell_type": "code",
   "execution_count": null,
   "id": "9211257c-f8f5-4a1e-83cf-4c18f798e423",
   "metadata": {},
   "outputs": [],
   "source": [
    "The url_for() function is used in Flask for URL Building.\n",
    "\n",
    "\n",
    "Example:\n",
    "\n",
    "\n",
    "from flask import Flask, url_for\n",
    "\n",
    "app = Flask(name)\n",
    "\n",
    "\n",
    "@app.route('/')\n",
    "\n",
    "def index():\n",
    "\n",
    "return 'Index Page'\n",
    "\n",
    "\n",
    "@app.route('/hello')\n",
    "\n",
    "def hello():\n",
    "\n",
    "return 'Hello World'\n",
    "\n",
    "\n",
    "@app.route('/user/<username>')\n",
    "\n",
    "def show_user_profile(username):\n",
    "\n",
    "return 'User %s' % username\n",
    "\n",
    "\n",
    "with app.test_request_context():\n",
    "\n",
    "print(url_for('index')) # Output: /\n",
    "\n",
    "print(url_for('hello')) # Output: /hello\n",
    "\n",
    "print(url_for('show_user_profile', username='John Doe')) # Output: /user/John%20Doe"
   ]
  }
 ],
 "metadata": {
  "kernelspec": {
   "display_name": "Python 3 (ipykernel)",
   "language": "python",
   "name": "python3"
  },
  "language_info": {
   "codemirror_mode": {
    "name": "ipython",
    "version": 3
   },
   "file_extension": ".py",
   "mimetype": "text/x-python",
   "name": "python",
   "nbconvert_exporter": "python",
   "pygments_lexer": "ipython3",
   "version": "3.10.8"
  }
 },
 "nbformat": 4,
 "nbformat_minor": 5
}
